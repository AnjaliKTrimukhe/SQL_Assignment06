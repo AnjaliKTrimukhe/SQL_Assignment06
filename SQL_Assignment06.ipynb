{
 "cells": [
  {
   "cell_type": "markdown",
   "id": "9413421c",
   "metadata": {},
   "source": [
    "Q-1. Write an SQL query to print details of the Workers who have joined in Feb’2014.\n",
    "Ans:\n",
    "SELECT *\n",
    "FROM worker\n",
    "WHERE year(joining_date) = 2014 and month(joining_date) = 2;"
   ]
  },
  {
   "cell_type": "markdown",
   "id": "7c54e65f",
   "metadata": {},
   "source": [
    "Q-2. Write an SQL query to fetch duplicate records having matching data in some fields of\n",
    "a table.\n",
    "Ans:\n",
    "SELECT WORKER_TITLE, AFFECTED_FROM, COUNT(*) FROM Title\n",
    "GROUP BY WORKER_TITLE, AFFECTED_FROM\n",
    "HAVING COUNT(*) > 1;"
   ]
  },
  {
   "cell_type": "markdown",
   "id": "d6050b40",
   "metadata": {},
   "source": [
    "Q-3. How to remove duplicate rows from Employees table.\n",
    "Ans:\n",
    "DELETE FROM Employees WHERE emp_id NOT IN (\n",
    "SELECT MAX(emp_id) FROM Employees GROUP BY EMPNAME,DEPT);"
   ]
  }
 ],
 "metadata": {
  "kernelspec": {
   "display_name": "Python 3 (ipykernel)",
   "language": "python",
   "name": "python3"
  },
  "language_info": {
   "codemirror_mode": {
    "name": "ipython",
    "version": 3
   },
   "file_extension": ".py",
   "mimetype": "text/x-python",
   "name": "python",
   "nbconvert_exporter": "python",
   "pygments_lexer": "ipython3",
   "version": "3.9.7"
  }
 },
 "nbformat": 4,
 "nbformat_minor": 5
}
